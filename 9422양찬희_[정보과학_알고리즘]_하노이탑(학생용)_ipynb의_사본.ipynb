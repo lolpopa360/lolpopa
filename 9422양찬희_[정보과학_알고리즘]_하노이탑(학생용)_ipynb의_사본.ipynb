{
  "cells": [
    {
      "cell_type": "markdown",
      "metadata": {
        "id": "view-in-github",
        "colab_type": "text"
      },
      "source": [
        "<a href=\"https://colab.research.google.com/github/lolpopa360/lolpopa/blob/main/9422%EC%96%91%EC%B0%AC%ED%9D%AC_%5B%EC%A0%95%EB%B3%B4%EA%B3%BC%ED%95%99_%EC%95%8C%EA%B3%A0%EB%A6%AC%EC%A6%98%5D_%ED%95%98%EB%85%B8%EC%9D%B4%ED%83%91(%ED%95%99%EC%83%9D%EC%9A%A9)_ipynb%EC%9D%98_%EC%82%AC%EB%B3%B8.ipynb\" target=\"_parent\"><img src=\"https://colab.research.google.com/assets/colab-badge.svg\" alt=\"Open In Colab\"/></a>"
      ]
    },
    {
      "cell_type": "markdown",
      "id": "87707014",
      "metadata": {
        "id": "87707014"
      },
      "source": [
        "# 🏗️ 하노이 탑 실습 (Google Colab)\n",
        " **하노이 탑 알고리즘**을 배우고, 직접 구현해보는 실습을 진행합니다.\n",
        "\n",
        "## 🎯 목표\n",
        "- 하노이 탑 문제를 이해하고 해결 방법을 탐색합니다.\n",
        "- **재귀 알고리즘**을 활용하여 하노이 탑 문제를 해결하는 파이썬 프로그램을 작성합니다.\n",
        "- 알고리즘의 효율성을 분석하고 응용합니다.\n",
        "\n",
        "**💡 문제를 해결하면서 논리적 사고력을 키워보세요!**"
      ]
    },
    {
      "cell_type": "markdown",
      "source": [
        "하노이탑 시뮬레이션\n",
        "https://javalab.org/hanoi_tower/"
      ],
      "metadata": {
        "id": "g-1ESN9F0fae"
      },
      "id": "g-1ESN9F0fae"
    },
    {
      "cell_type": "markdown",
      "id": "e610b161",
      "metadata": {
        "id": "e610b161"
      },
      "source": [
        "## 📝 문제 설명\n",
        "**하노이 탑 문제**란?\n",
        "- 세 개의 기둥(A, B, C)과 여러 개의 크기가 다른 원판이 있습니다.\n",
        "- 처음에는 모든 원판이 가장 왼쪽(A) 기둥에 놓여 있습니다.\n",
        "- 목표는 모든 원판을 **오른쪽(C) 기둥으로 옮기는 것**입니다.\n",
        "\n",
        "**단, 다음 규칙을 따라야 합니다.**\n",
        "1. 한 번에 한 개의 원판만 이동할 수 있다.\n",
        "2. 작은 원판 위에 큰 원판을 놓을 수 없다.\n",
        "3. 중간 기둥(B)을 이용할 수 있다.\n",
        "\n",
        "### ✨ 예제 (원판 3개인 경우)\n",
        "```\n",
        "1번원판이 가장 작은 크기, 3번원판이 가장 큰 크기\n",
        "\n",
        "1번 원판: A → C\n",
        "2번 원판: A → B\n",
        "1번 원판: C → B\n",
        "3번 원판: A → C\n",
        "1번 원판: B → A\n",
        "2번 원판: B → C\n",
        "1번 원판: A → C\n",
        "```"
      ]
    },
    {
      "cell_type": "code",
      "source": [
        "#알고리즘 작성해보기\n",
        "#원판이 4개인 경우 어떻게 동작시켜야할지 알고리즘을 작성해봅니다.\n",
        "1번 원판 : A → B\n",
        "2번 원판 : A → C\n",
        "1번 원판 : B → C\n",
        "3번 원판 : A → B\n",
        "1번 원판 : C → A\n",
        "2번 원판 : C → B\n",
        "1번 원판 : A → B\n",
        "4번 원판 : A → C\n",
        "1번 원판 : B → C\n",
        "2번 원판 : B → A\n",
        "1번 원판 : C → A\n",
        "3번 원판 : B → C\n",
        "1번 원판 : A → B\n",
        "2번 원판 : A → C\n",
        "1번 원판 : B → C\n",
        "\n",
        "\n",
        "\n",
        "\n"
      ],
      "metadata": {
        "id": "kAYwtl1_0w6R"
      },
      "id": "kAYwtl1_0w6R",
      "execution_count": null,
      "outputs": []
    },
    {
      "cell_type": "markdown",
      "id": "4e3b7dab",
      "metadata": {
        "id": "4e3b7dab"
      },
      "source": [
        "## ✍️ Step 1: 하노이 탑 알고리즘 이해하기\n",
        "### **하노이 탑을 해결하는 재귀 알고리즘**\n",
        "하노이 탑 문제를 해결하는 **재귀 함수**는 다음과 같은 구조를 가집니다.\n",
        "\n",
        "1. 원판이 **1개일 경우**: 그냥 목표 기둥으로 옮기면 된다.\n",
        "2. 원판이 **N개일 경우**:\n",
        "   - (N-1)개의 원판을 보조 기둥으로 이동\n",
        "   - 가장 큰 원판을 목표 기둥으로 이동\n",
        "   - 보조 기둥에 있던 (N-1)개의 원판을 목표 기둥으로 이동\n",
        "\n",
        "아래 코드를 참고하여, **하노이 탑 알고리즘을 직접 구현**해보세요! 🚀"
      ]
    },
    {
      "cell_type": "code",
      "execution_count": null,
      "id": "5afeb61b",
      "metadata": {
        "id": "5afeb61b",
        "colab": {
          "base_uri": "https://localhost:8080/"
        },
        "outputId": "2d55d2df-8f72-4721-d829-df19a04ca14d"
      },
      "outputs": [
        {
          "output_type": "stream",
          "name": "stdout",
          "text": [
            "1번 원판: A → C\n",
            "2번 원판: A → B\n",
            "1번 원판: C → B\n",
            "3번 원판: A → C\n",
            "1번 원판: B → A\n",
            "2번 원판: B → C\n",
            "1번 원판: A → C\n",
            "7\n"
          ]
        }
      ],
      "source": [
        "#아래의 빈칸에 알고리즘을 작성해보자. GPT의 도움없이 직접 해보기\n",
        "cnt = 0\n",
        "def hanoi(n, start, aux, end):\n",
        "    global cnt\n",
        "    \"\"\"하노이 탑 알고리즘 구현 (재귀 방식)\n",
        "    :param n: 이동할 원판 개수\n",
        "    :param start: 출발 기둥\n",
        "    :param end: 목표 기둥\n",
        "    :param aux: 보조 기둥\n",
        "    \"\"\"\n",
        "\n",
        "    # 만약 원판이 1개라면, 단순히 목표 기둥으로 옮긴다.\n",
        "    if n == 1:\n",
        "        print(\"%d번 원판: %s → %s\" % (n, start, end))  # 원판 이동 출력\n",
        "        cnt += 1\n",
        "        return  # 재귀 종료\n",
        "\n",
        "    # Step 1: 가장 큰 원판을 제외한 (N-1)개의 원판을 보조 기둥(aux)로 이동\n",
        "    hanoi (n-1, start,end, aux)\n",
        "\n",
        "    # Step 2: 가장 큰 원판(남은 마지막 원판)을 목표 기둥(end)으로 이동\n",
        "    print(\"%d번 원판: %s → %s\" % (n, start, end))  # 원판 이동 출력\n",
        "    cnt += 1\n",
        "\n",
        "    # Step 3: 보조 기둥(aux)에 옮겨두었던 (N-1)개의 원판을 목표 기둥(end)으로 이동\n",
        "    hanoi(n-1, aux, start, end )\n",
        "\n",
        "# 실행 예제\n",
        "n = 3  # 원판 개수 설정\n",
        "hanoi(n, 'A', 'B', 'C')  # A 기둥에서 C 기둥으로 이동 (B 기둥을 보조로 사용)\n",
        "print(cnt)"
      ]
    },
    {
      "cell_type": "code",
      "source": [
        "def hanoi(n, start, aux, end):\n",
        "    if n == 1:\n",
        "        print(\"%d번 원판: %s → %s\" % (n,start, end))  # 원판 이동 출력\n",
        "        return  # 재귀 종료\n",
        "    hanoi (n-1, start, end, aux)\n",
        "    print(\"%d번 원판: %s → %s\" % (n,start, end))  # 원판 이동 출력\n",
        "    hanoi(n-1, aux, start, end )\n",
        "n = 3\n",
        "hanoi(n, 'A', 'B', 'C')"
      ],
      "metadata": {
        "id": "04D2I8pvGED-",
        "colab": {
          "base_uri": "https://localhost:8080/"
        },
        "outputId": "3e25deae-56c1-41f4-82e2-bce7ce1eef47"
      },
      "id": "04D2I8pvGED-",
      "execution_count": null,
      "outputs": [
        {
          "output_type": "stream",
          "name": "stdout",
          "text": [
            "1번 원판: A → C\n",
            "2번 원판: A → B\n",
            "1번 원판: C → B\n",
            "3번 원판: A → C\n",
            "1번 원판: B → A\n",
            "2번 원판: B → C\n",
            "1번 원판: A → C\n"
          ]
        }
      ]
    },
    {
      "cell_type": "code",
      "source": [
        "이 코드가 동작하는 코드라인의 순서를 작성해보세요\n",
        "왼쪽의 줄 번호가 보이지 않는다면 상단의 [도구] - [설정]-[편집기]-행번호 표시를 클릭하세요.\n",
        "#원판의 갯수가 3개일때 코드라인이 실행되는 순서 작성\n",
        "------------------------------------------\n",
        "메인 코드 실행\n",
        "8번 줄: n = 3 (초기화)\n",
        "9번 줄: hanoi(3, 'A', 'B', 'C') 함수 호출\n",
        " hanoi(3, A, B, C)\n",
        "1번 줄: 함수 진입 → n = 3\n",
        "2번 줄: if n == 1 → ❌ 거짓\n",
        "5번 줄: hanoi(2, A, C, B) 호출 → 보조막대 C가 목적지로 변경됨\n",
        "hanoi(2, A, C, B)\n",
        "1번 줄: 함수 진입 → n = 2\n",
        "2번 줄: if n == 1 → ❌ 거짓\n",
        "5번 줄: hanoi(1, A, B, C) 호출 → 최하위 원판 이동\n",
        " hanoi(1, A, B, C)\n",
        "1번 줄: 함수 진입 → n = 1\n",
        "2번 줄: if n == 1 → ✅ 참\n",
        "3번 줄: 출력 → 1번 원판: A → C ← 🟦 (출력①)\n",
        "4번 줄: return → 재귀 종료\n",
        " hanoi(2, A, C, B)\n",
        "6번 줄: 출력 → 2번 원판: A → B ← 🟦 (출력②)\n",
        "7번 줄: ㅗanoi(1, C, A, B) 호출\n",
        "hanoi(1, C, A, B)\n",
        "1번 줄: 함수 진입 → n = 1\n",
        "2번 줄: if n == 1 → ✅ 참\n",
        "3번 줄: 출력 → 1번 원판: C → B ← 🟦 (출력③)\n",
        "4번 줄: return → 재귀 종료\n",
        "hanoi(3, A, B, C)\n",
        "6번 줄: 출력 → 3번 원판: A → C ← 🟦 (출력④)\n",
        "7번 줄: hanoi(2, B, A, C) 호출\n",
        " hanoi(2, B, A, C)\n",
        "1번 줄: 함수 진입 → n = 2\n",
        "2번 줄: if n == 1 → ❌ 거짓\n",
        "5번 줄: hanoi(1, B, C, A) 호출\n",
        " hanoi(1, B, C, A)\n",
        "1번 줄: 함수 진입 → n = 1\n",
        "2번 줄: if n == 1 → ✅ 참\n",
        "3번 줄: 출력 → 1번 원판: B → A ← 🟦 (출력⑤)\n",
        "4번 줄: return → 재귀 종료\n",
        " hanoi(2, B, A, C)\n",
        "6번 줄: 출력 → 2번 원판: B → C ← 🟦 (출력⑥)\n",
        "7번 줄: hanoi(1, A, B, C) 호출\n",
        " hanoi(1, A, B, C)\n",
        "1번 줄: 함수 진입 → n = 1\n",
        "2번 줄: if n == 1 → ✅ 참\n",
        "3번 줄: 출력 → 1번 원판: A → C ← 🟦 (출력⑦)\n",
        "\n",
        "4번 줄: return → 재귀 종료\n",
        "\n",
        "\n",
        "\n",
        "\n",
        "\n"
      ],
      "metadata": {
        "id": "ZwViw7R-ZV7y",
        "colab": {
          "base_uri": "https://localhost:8080/",
          "height": 106
        },
        "outputId": "237683a1-1621-474a-c82c-a5b097679cb5"
      },
      "id": "ZwViw7R-ZV7y",
      "execution_count": null,
      "outputs": [
        {
          "output_type": "error",
          "ename": "SyntaxError",
          "evalue": "invalid syntax (<ipython-input-3-920522042e76>, line 1)",
          "traceback": [
            "\u001b[0;36m  File \u001b[0;32m\"<ipython-input-3-920522042e76>\"\u001b[0;36m, line \u001b[0;32m1\u001b[0m\n\u001b[0;31m    이 코드가 동작하는 코드라인의 순서를 작성해보세요\u001b[0m\n\u001b[0m      ^\u001b[0m\n\u001b[0;31mSyntaxError\u001b[0m\u001b[0;31m:\u001b[0m invalid syntax\n"
          ]
        }
      ]
    },
    {
      "cell_type": "markdown",
      "id": "71dceaa3",
      "metadata": {
        "id": "71dceaa3"
      },
      "source": [
        "## 🚀 Step 2: 하노이 탑 알고리즘 실행하기\n",
        "위의 함수를 실행하여 하노이 탑 문제를 해결해봅시다!"
      ]
    },
    {
      "cell_type": "code",
      "execution_count": null,
      "id": "08aa05f6",
      "metadata": {
        "id": "08aa05f6",
        "colab": {
          "base_uri": "https://localhost:8080/"
        },
        "outputId": "a7576c82-87da-4f49-9fd8-169204cb2873"
      },
      "outputs": [
        {
          "output_type": "stream",
          "name": "stdout",
          "text": [
            "원판 개수를 입력하세요: 3\n",
            "1번 원판: A → C\n",
            "2번 원판: A → B\n",
            "1번 원판: C → B\n",
            "3번 원판: A → C\n",
            "1번 원판: B → A\n",
            "2번 원판: B → C\n",
            "1번 원판: A → C\n"
          ]
        }
      ],
      "source": [
        "# 원판 개수 입력\n",
        "n = int(input(\"원판 개수를 입력하세요: \"))\n",
        "hanoi(n, 'A', 'B', 'C') # A 기둥에서 C 기둥으로 이동 (B 기둥을 보조로 사용)"
      ]
    },
    {
      "cell_type": "markdown",
      "id": "6f268aaf",
      "metadata": {
        "id": "6f268aaf"
      },
      "source": [
        "## 📊 Step 3: 알고리즘의 효율성 분석\n",
        "**하노이 탑 문제의 이동 횟수를 계산해보세요.**\n",
        "\n",
        "- 원판이 1개일 때: 1번 이동\n",
        "- 원판이 2개일 때: 3번 이동\n",
        "- 원판이 3개일 때: 7번 이동\n",
        "- 원판이 4개일 때: 15번 이동\n",
        "\n",
        "**일반화된 수식:**\n",
        "\\( 이동 횟수 = 2^N - 1 \\)\n",
        "- 예를 들어, 원판이 10개일 경우 이동 횟수는? 🤔\n"
      ]
    },
    {
      "cell_type": "markdown",
      "id": "367621aa",
      "metadata": {
        "id": "367621aa"
      },
      "source": [
        "## 🎯 추가 과제: 하노이 탑 시각화\n",
        "**도전 과제:**\n",
        "1. `matplotlib` 또는 `pygame`을 이용해 **하노이 탑 애니메이션**을 만들어보세요.\n",
        "2. `반복문(Iterative Algorithm)`을 활용하여 하노이 탑 문제를 해결할 수 있을까요?\n",
        "3. N개의 원판이 있을 때, 최소 몇 번의 이동이 필요한지 `수식으로 유도`해보세요.\n",
        "\n",
        "**🔥 도전해볼 가치가 있는 문제입니다!** 💡"
      ]
    },
    {
      "cell_type": "markdown",
      "metadata": {
        "id": "be5167fa"
      },
      "source": [
        "## 🔄 반복문을 활용한 하노이 탑 해결\n",
        "재귀 없이 **스택을 활용하여 반복문으로 하노이 탑을 해결하는 방법**입니다."
      ],
      "id": "be5167fa"
    },
    {
      "cell_type": "code",
      "execution_count": null,
      "metadata": {
        "id": "850bbdd2",
        "colab": {
          "base_uri": "https://localhost:8080/"
        },
        "outputId": "7cbd14d0-628a-46d7-dee5-ee28e5e5328c"
      },
      "outputs": [
        {
          "output_type": "stream",
          "name": "stdout",
          "text": [
            "1번 원판: A → C\n",
            "2번 원판: A → C\n",
            "2번 원판: C → B\n",
            "3번 원판: A → C\n",
            "2번 원판: B → A\n",
            "2번 원판: A → C\n"
          ]
        }
      ],
      "source": [
        "def iterative_hanoi(n):\n",
        "    rods = {1: list(range(n, 0, -1)), 2: [], 3: []}  # 기둥 설정\n",
        "    moves = []\n",
        "    total_moves = (2 ** n) - 1  # 최소 이동 횟수\n",
        "\n",
        "    if n % 2 == 0:\n",
        "        target = {1: 2, 2: 3, 3: 1}  # A → B → C\n",
        "    else:\n",
        "        target = {1: 3, 3: 2, 2: 1}  # A → C → B\n",
        "\n",
        "    for move in range(1, total_moves + 1):\n",
        "        from_rod = (move & move - 1) % 3 + 1\n",
        "        to_rod = target[from_rod]\n",
        "        if rods[from_rod]:\n",
        "            disk = rods[from_rod].pop()\n",
        "            rods[to_rod].append(disk)\n",
        "            moves.append(f\"{disk}번 원판: {chr(64+from_rod)} → {chr(64+to_rod)}\")\n",
        "\n",
        "    return moves\n",
        "\n",
        "# 실행 예제\n",
        "n = 3  # 원판 개수\n",
        "for step in iterative_hanoi(n):\n",
        "    print(step)"
      ],
      "id": "850bbdd2"
    },
    {
      "cell_type": "markdown",
      "metadata": {
        "id": "db072e1b"
      },
      "source": [
        "## 📊 최소 이동 횟수 공식 유도\n",
        "**최소 이동 횟수 공식:**\n",
        "\\( T(N) = 2^N - 1 \\)\n",
        "\n",
        "예를 들어, 원판이 10개일 경우 최소 이동 횟수는?\n"
      ],
      "id": "db072e1b"
    },
    {
      "cell_type": "code",
      "execution_count": null,
      "metadata": {
        "id": "e877766a",
        "colab": {
          "base_uri": "https://localhost:8080/"
        },
        "outputId": "22b6f057-9acd-4b96-a8db-154e639f9cf6"
      },
      "outputs": [
        {
          "output_type": "stream",
          "name": "stdout",
          "text": [
            "원판 개수가 10개일 때 최소 이동 횟수: 1023\n"
          ]
        }
      ],
      "source": [
        "N = 10\n",
        "print(\"원판 개수가 10개일 때 최소 이동 횟수:\",1023)"
      ],
      "id": "e877766a"
    },
    {
      "cell_type": "markdown",
      "source": [
        "# 코드업 문제 풀어보기\n",
        "https://www.codeup.kr/problem.php?id=3420\n"
      ],
      "metadata": {
        "id": "4foy_Bk42T_3"
      },
      "id": "4foy_Bk42T_3"
    },
    {
      "cell_type": "code",
      "source": [],
      "metadata": {
        "id": "aLclboHoSEJ3"
      },
      "id": "aLclboHoSEJ3",
      "execution_count": null,
      "outputs": []
    },
    {
      "cell_type": "markdown",
      "source": [
        "![image.png](data:image/png;base64,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)"
      ],
      "metadata": {
        "id": "vTRriqc6SEs3"
      },
      "id": "vTRriqc6SEs3"
    }
  ],
  "metadata": {
    "colab": {
      "provenance": [],
      "include_colab_link": true
    },
    "language_info": {
      "name": "python"
    },
    "kernelspec": {
      "name": "python3",
      "display_name": "Python 3"
    }
  },
  "nbformat": 4,
  "nbformat_minor": 5
}